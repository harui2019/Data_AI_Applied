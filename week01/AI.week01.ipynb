{
 "cells": [
  {
   "cell_type": "markdown",
   "metadata": {},
   "source": [
    "# HW01: TF-IDF \n",
    "    自行設定一個query。在搜存引擎上搜尋，取前三篇文章（不包括廣告）。計算3 documents中，tf-idf分數最高的top 5，後取“關鍵字”。\n",
    "    The problems that you may encounter:\n",
    "    - 如何存資料、在那裡做計算、如何產生 output\n",
    "    - 斷字：Jieba (pip install jieba) jieba.cut\n",
    "    - (key, value)"
   ]
  },
  {
   "cell_type": "code",
   "execution_count": 1,
   "metadata": {},
   "outputs": [],
   "source": [
    "import jieba"
   ]
  },
  {
   "cell_type": "code",
   "execution_count": null,
   "metadata": {},
   "outputs": [],
   "source": []
  }
 ],
 "metadata": {
  "kernelspec": {
   "display_name": "Python 3.9.7 ('base')",
   "language": "python",
   "name": "python3"
  },
  "language_info": {
   "codemirror_mode": {
    "name": "ipython",
    "version": 3
   },
   "file_extension": ".py",
   "mimetype": "text/x-python",
   "name": "python",
   "nbconvert_exporter": "python",
   "pygments_lexer": "ipython3",
   "version": "3.9.7"
  },
  "orig_nbformat": 4,
  "vscode": {
   "interpreter": {
    "hash": "159f4e407912a17e167f5db34c957ad4331db5f294b01a1425dfe1db5ae08f50"
   }
  }
 },
 "nbformat": 4,
 "nbformat_minor": 2
}
