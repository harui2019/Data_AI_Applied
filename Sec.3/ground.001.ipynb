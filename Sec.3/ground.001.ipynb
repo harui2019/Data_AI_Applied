{
 "cells": [
  {
   "attachments": {},
   "cell_type": "markdown",
   "metadata": {},
   "source": [
    "# AI Applied. - Sec.3 - 1209"
   ]
  },
  {
   "attachments": {},
   "cell_type": "markdown",
   "metadata": {},
   "source": [
    "## Env Preparation"
   ]
  },
  {
   "cell_type": "code",
   "execution_count": 9,
   "metadata": {},
   "outputs": [
    {
     "name": "stdout",
     "output_type": "stream",
     "text": [
      "{'msg': 'Insufficient word count balance.',\n",
      " 'status': False,\n",
      " 'word_count_balance': 0}\n"
     ]
    }
   ],
   "source": [
    "from ArticutAPI import Articut\n",
    "from pprint import pprint\n",
    "\n",
    "def load_articut() -> Articut:\n",
    "    import pickle\n",
    "    config = pickle.load(open('config.droidtown.pkl', \"rb\"))\n",
    "    articut = Articut(config['username'], config['apikey'])\n",
    "    return articut\n",
    "\n",
    "articut = load_articut()\n",
    "freeArticut = Articut()\n",
    "\n",
    "inputSTR = \"會被大家盯上，才證明你有實力。\"\n",
    "resultDICT = articut.parse(inputSTR)\n",
    "pprint(resultDICT)"
   ]
  },
  {
   "cell_type": "code",
   "execution_count": 12,
   "metadata": {},
   "outputs": [
    {
     "data": {
      "text/plain": [
       "('Success!', 'Success!')"
      ]
     },
     "execution_count": 12,
     "metadata": {},
     "output_type": "execute_result"
    }
   ],
   "source": [
    "freeArticut.versions()['msg'], articut.versions()['msg']"
   ]
  },
  {
   "attachments": {},
   "cell_type": "markdown",
   "metadata": {},
   "source": [
    "-----------------\n",
    "\n",
    "## Class"
   ]
  },
  {
   "cell_type": "code",
   "execution_count": null,
   "metadata": {},
   "outputs": [],
   "source": []
  },
  {
   "cell_type": "code",
   "execution_count": null,
   "metadata": {},
   "outputs": [],
   "source": []
  }
 ],
 "metadata": {
  "kernelspec": {
   "display_name": "aiplayground",
   "language": "python",
   "name": "python3"
  },
  "language_info": {
   "codemirror_mode": {
    "name": "ipython",
    "version": 3
   },
   "file_extension": ".py",
   "mimetype": "text/x-python",
   "name": "python",
   "nbconvert_exporter": "python",
   "pygments_lexer": "ipython3",
   "version": "3.11.0 | packaged by conda-forge | (main, Oct 25 2022, 06:24:40) [GCC 10.4.0]"
  },
  "orig_nbformat": 4,
  "vscode": {
   "interpreter": {
    "hash": "bc4853a65275fb0ce78dcf9179e4fcef778f23158e409d7be285e4abbb1b5dd9"
   }
  }
 },
 "nbformat": 4,
 "nbformat_minor": 2
}
