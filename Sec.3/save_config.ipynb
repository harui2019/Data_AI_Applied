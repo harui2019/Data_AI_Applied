{
 "cells": [
  {
   "cell_type": "code",
   "execution_count": 1,
   "metadata": {},
   "outputs": [],
   "source": [
    "import pickle\n",
    "import os"
   ]
  },
  {
   "cell_type": "code",
   "execution_count": 2,
   "metadata": {},
   "outputs": [],
   "source": [
    "username = \"james880818@gmail.com\" #這裡填入您在 https://api.droidtown.co 使用的帳號 email。若使用空字串，則預設使用每小時 2000 字的公用額度。\n",
    "apikey   = \"\" #這裡填入您在 https://api.droidtown.co 登入後取得的 api Key。若使用空字串，則預設使用每小時 2000 字的公用額度。"
   ]
  },
  {
   "cell_type": "code",
   "execution_count": 3,
   "metadata": {},
   "outputs": [],
   "source": [
    "if __name__ == \"__main__\":\n",
    "    if os.path.exists('config.droidtown.pkl'):\n",
    "        print(\"config.droidtown.pkl already exists. Please delete it first.\")\n",
    "        exit(1)\n",
    "    else:\n",
    "        with open('config.droidtown.pkl', 'wb') as f:\n",
    "        pickle.dump({\n",
    "            'username': username,\n",
    "            'apikey': apikey,\n",
    "        }, f)"
   ]
  }
 ],
 "metadata": {
  "kernelspec": {
   "display_name": "aiplayground",
   "language": "python",
   "name": "python3"
  },
  "language_info": {
   "codemirror_mode": {
    "name": "ipython",
    "version": 3
   },
   "file_extension": ".py",
   "mimetype": "text/x-python",
   "name": "python",
   "nbconvert_exporter": "python",
   "pygments_lexer": "ipython3",
   "version": "3.11.0 | packaged by conda-forge | (main, Oct 25 2022, 06:24:40) [GCC 10.4.0]"
  },
  "orig_nbformat": 4,
  "vscode": {
   "interpreter": {
    "hash": "bc4853a65275fb0ce78dcf9179e4fcef778f23158e409d7be285e4abbb1b5dd9"
   }
  }
 },
 "nbformat": 4,
 "nbformat_minor": 2
}
